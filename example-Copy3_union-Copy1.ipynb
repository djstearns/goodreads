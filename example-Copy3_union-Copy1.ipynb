{
 "cells": [
  {
   "cell_type": "code",
   "execution_count": 1,
   "id": "667d95f2",
   "metadata": {},
   "outputs": [],
   "source": [
    "import numpy as np\n",
    "import pandas as pd\n",
    "\n",
    "from sklearn.base import BaseEstimator, TransformerMixin\n",
    "from sklearn.impute import SimpleImputer\n",
    "from sklearn.preprocessing import MinMaxScaler\n",
    "from sklearn.feature_extraction.text import TfidfVectorizer\n",
    "from sklearn.compose import ColumnTransformer\n",
    "from sklearn.pipeline import Pipeline, FeatureUnion\n"
   ]
  },
  {
   "cell_type": "code",
   "execution_count": 2,
   "id": "32ec3757",
   "metadata": {},
   "outputs": [],
   "source": [
    "df = pd.read_csv('../goodreads_train.csv')"
   ]
  },
  {
   "cell_type": "code",
   "execution_count": 3,
   "id": "325a8863",
   "metadata": {},
   "outputs": [
    {
     "data": {
      "text/plain": [
       "Index(['user_id', 'book_id', 'review_id', 'rating', 'review_text',\n",
       "       'date_added', 'date_updated', 'read_at', 'started_at', 'n_votes',\n",
       "       'n_comments'],\n",
       "      dtype='object')"
      ]
     },
     "execution_count": 3,
     "metadata": {},
     "output_type": "execute_result"
    }
   ],
   "source": [
    "df.columns"
   ]
  },
  {
   "cell_type": "code",
   "execution_count": 5,
   "id": "002edd0d",
   "metadata": {},
   "outputs": [],
   "source": [
    "from sklearn.preprocessing import LabelEncoder\n",
    "from sklearn.model_selection import train_test_split, StratifiedShuffleSplit\n",
    "from sklearn.feature_extraction.text import CountVectorizer, TfidfVectorizer\n",
    "from sklearn.naive_bayes import MultinomialNB\n",
    "from sklearn.metrics import confusion_matrix, accuracy_score\n",
    "from sklearn.pipeline import Pipeline\n",
    "import matplotlib.pyplot as plt\n",
    "df['review_text_new'] = df['review_text'].astype('U')\n",
    "#X = df[['review_text_new','n_votes']]\n",
    "X = df['review_text_new']\n",
    "y = df['rating'].astype('U')\n",
    "X_train, X_val, y_train, y_val = train_test_split(X, y, test_size = 0.2, stratify = y)"
   ]
  },
  {
   "cell_type": "code",
   "execution_count": 5,
   "id": "a85a39e2",
   "metadata": {},
   "outputs": [
    {
     "name": "stdout",
     "output_type": "stream",
     "text": [
      "CPU times: user 81 µs, sys: 0 ns, total: 81 µs\n",
      "Wall time: 84.2 µs\n"
     ]
    }
   ],
   "source": [
    "%%time\n",
    "#https://towardsdatascience.com/featureunion-columntransformer-pipeline-for-preprocessing-text-data-9dcb233dbcb6\n",
    "\n",
    "class CharacterCounter(BaseEstimator, TransformerMixin):\n",
    "    \"\"\"Count the number of characters in a document.\"\"\"\n",
    "    def __init__(self):\n",
    "        pass\n",
    "    \n",
    "    def fit(self, X, y=None):\n",
    "        return self\n",
    "    \n",
    "    def transform(self, X):\n",
    "        n_characters = X.str.len()\n",
    "        return n_characters.values.reshape(-1,1) # 2D array\n",
    "    \n",
    "class TokenCounter(BaseEstimator, TransformerMixin):\n",
    "    \"\"\"Count the number of tokens in a document.\"\"\"\n",
    "    def __init__(self):\n",
    "        pass\n",
    "    \n",
    "    def fit(self, X, y=None):\n",
    "        self.tokeniser = RegexpTokenizer(r'[A-Za-z]+')\n",
    "        return self\n",
    "    \n",
    "    def transform(self, X):\n",
    "        n_tokens = X.apply(lambda document: len(self.tokeniser.tokenize(document)))\n",
    "        return n_tokens.values.reshape(-1,1) # 2D array\n",
    "\n",
    "# Build a FeatureUnion\n",
    "text = 'review_text_new'\n",
    "\n",
    "vectoriser = TfidfVectorizer(lowercase = True,stop_words = 'english',analyzer = 'word',max_df=.2)\n",
    "character_counter = CharacterCounter()\n",
    "\n",
    "preprocessor = FeatureUnion([\n",
    "    ('vectoriser', vectoriser),\n",
    "    ('character_counter', character_counter),\n",
    "])\n",
    "\n",
    "# preprocessor.fit(X_train[text])\n",
    "\n",
    "# # Transform the data and format for readibility\n",
    "# columns = preprocessor.transformer_list[0][1].get_feature_names() + ['n_characters']\n",
    "# X_train_transformed = pd.DataFrame(preprocessor.transform(X_train[text]).toarray(), \n",
    "#                                    columns=columns)\n",
    "# X_train_transformed"
   ]
  },
  {
   "cell_type": "code",
   "execution_count": 6,
   "id": "c2575811",
   "metadata": {},
   "outputs": [],
   "source": [
    "counter_pipe = Pipeline([\n",
    "    ('character_counter', CharacterCounter())\n",
    "])\n",
    "\n",
    "numerical = ['n_votes']\n",
    "\n",
    "text_union = FeatureUnion([\n",
    "    ('vectoriser', vectoriser),\n",
    "    ('counter', counter_pipe)\n",
    "])\n",
    "\n",
    "num_pipe = Pipeline([\n",
    "    ('imputer', SimpleImputer(strategy='median')),\n",
    "    ('scaler', MinMaxScaler())\n",
    "])\n",
    "\n",
    "preprocessor = ColumnTransformer([\n",
    "    ('num', num_pipe, numerical),\n",
    "    ('text', text_union, text)\n",
    "])\n",
    "\n",
    "#preprocessor.fit(X_train)\n",
    "\n",
    "# Transform the data and format for readibility\n",
    "#terms = preprocessor.named_transformers_['text'].transformer_list[0][1].get_feature_names()\n",
    "#columns = numerical + terms + ['n_characters']\n",
    "#print(columns)\n",
    "#X_train_transformed = pd.DataFrame(preprocessor.transform(X_train).toarray(), columns=columns)\n",
    "#X_train_transformed"
   ]
  },
  {
   "cell_type": "code",
   "execution_count": 7,
   "id": "85845052",
   "metadata": {},
   "outputs": [
    {
     "data": {
      "text/plain": [
       "180000"
      ]
     },
     "execution_count": 7,
     "metadata": {},
     "output_type": "execute_result"
    }
   ],
   "source": [
    "len(X_val)"
   ]
  },
  {
   "cell_type": "code",
   "execution_count": 8,
   "id": "f74b6dfa",
   "metadata": {},
   "outputs": [
    {
     "data": {
      "text/plain": [
       "Index(['review_text_new', 'n_votes'], dtype='object')"
      ]
     },
     "execution_count": 8,
     "metadata": {},
     "output_type": "execute_result"
    }
   ],
   "source": [
    "X_val.columns"
   ]
  },
  {
   "cell_type": "code",
   "execution_count": 13,
   "id": "b43d9807",
   "metadata": {},
   "outputs": [
    {
     "name": "stdout",
     "output_type": "stream",
     "text": [
      "[[ 1282   222   126   121   171   103]\n",
      " [   84   229    75    27    20    14]\n",
      " [  105   206   401   197    71    51]\n",
      " [  613  1202  4099  6854  3233   823]\n",
      " [ 2452  2911  8418 26980 45306 23274]\n",
      " [ 1662   974  1406  3615 13937 28736]]\n",
      "0.4600444444444444\n",
      "CPU times: user 8h 26min 58s, sys: 3.4 s, total: 8h 27min 2s\n",
      "Wall time: 8h 30min 7s\n"
     ]
    },
    {
     "data": {
      "text/plain": [
       "<matplotlib.image.AxesImage at 0x7f8feabf6a30>"
      ]
     },
     "execution_count": 13,
     "metadata": {},
     "output_type": "execute_result"
    },
    {
     "data": {
      "image/png": "[encoded data removed]",
      "text/plain": [
       "<Figure size 432x288 with 1 Axes>"
      ]
     },
     "metadata": {
      "needs_background": "light"
     },
     "output_type": "display_data"
    }
   ],
   "source": [
    "%%time\n",
    "#pipe = Pipeline([('naive_bayes', MultinomialNB())])\n",
    "\n",
    "from sklearn.ensemble import RandomForestClassifier\n",
    "pipe = Pipeline(steps=[('preprocessor', preprocessor),\n",
    "                       #('naive_bayes', MultinomialNB()) ])\n",
    "                      ('classifier', RandomForestClassifier())])\n",
    "                     \n",
    "le = LabelEncoder()\n",
    "y_train = le.fit_transform(y_train)\n",
    "y_val = le.transform(y_val)\n",
    "\n",
    "pipe.fit(X_train, list(y_train))\n",
    "\n",
    "\n",
    "y_pred = pipe.predict(X_val)\n",
    "print(confusion_matrix(y_pred, y_val))\n",
    "print(accuracy_score(y_pred, y_val))\n",
    "plt.imshow(confusion_matrix(y_pred, y_val))"
   ]
  },
  {
   "cell_type": "code",
   "execution_count": 14,
   "id": "bc7bada2",
   "metadata": {},
   "outputs": [
    {
     "name": "stderr",
     "output_type": "stream",
     "text": [
      "/data/acajupyter/anaconda3/envs/server1/lib/python3.9/site-packages/sklearn/utils/deprecation.py:87: FutureWarning: Function plot_confusion_matrix is deprecated; Function `plot_confusion_matrix` is deprecated in 1.0 and will be removed in 1.2. Use one of the class methods: ConfusionMatrixDisplay.from_predictions or ConfusionMatrixDisplay.from_estimator.\n",
      "  warnings.warn(msg, category=FutureWarning)\n"
     ]
    },
    {
     "data": {
      "image/png": "[encoded data removed]",
      "text/plain": [
       "<Figure size 432x288 with 2 Axes>"
      ]
     },
     "metadata": {
      "needs_background": "light"
     },
     "output_type": "display_data"
    }
   ],
   "source": [
    "#Attmpt 2 - RandomForest\n",
    "import matplotlib.pyplot as plt\n",
    "from sklearn.datasets import make_classification\n",
    "from sklearn.metrics import plot_confusion_matrix\n",
    "from sklearn.model_selection import train_test_split\n",
    "from sklearn.svm import SVC\n",
    "plot_confusion_matrix(pipe, X_val, y_val)  \n",
    "plt.show()"
   ]
  },
  {
   "cell_type": "code",
   "execution_count": 19,
   "id": "4c236f86",
   "metadata": {},
   "outputs": [
    {
     "name": "stdout",
     "output_type": "stream",
     "text": [
      "[[  865   302   417   685   975   856]\n",
      " [  167   286   412   628   731   601]\n",
      " [  377   618  1524  2715  3257  2201]\n",
      " [ 1257  1641  4637 12229 16805 11223]\n",
      " [ 1835  1809  5171 15010 26903 21220]\n",
      " [ 1697  1088  2364  6527 14067 16900]]\n",
      "0.32615\n",
      "CPU times: user 1h 36min 48s, sys: 17min 21s, total: 1h 54min 9s\n",
      "Wall time: 1h 54min 53s\n"
     ]
    },
    {
     "data": {
      "text/plain": [
       "<matplotlib.image.AxesImage at 0x7f8fe7d4ed30>"
      ]
     },
     "execution_count": 19,
     "metadata": {},
     "output_type": "execute_result"
    },
    {
     "data": {
      "image/png": "[encoded data removed]",
      "text/plain": [
       "<Figure size 432x288 with 1 Axes>"
      ]
     },
     "metadata": {
      "needs_background": "light"
     },
     "output_type": "display_data"
    }
   ],
   "source": [
    "%%time\n",
    "#attmpt 3 - SVC, knn = KNeighborsClassifier()\n",
    "\n",
    "#pipe = Pipeline([('naive_bayes', MultinomialNB())])\n",
    "\n",
    "from sklearn.neighbors import KNeighborsClassifier\n",
    "pipe = Pipeline(steps=[('preprocessor', preprocessor),\n",
    "                       #('naive_bayes', MultinomialNB()) ])\n",
    "                      ('classifier', KNeighborsClassifier())])\n",
    "                     \n",
    "le = LabelEncoder()\n",
    "y_train = le.fit_transform(y_train)\n",
    "y_val = le.transform(y_val)\n",
    "\n",
    "pipe.fit(X_train, list(y_train))\n",
    "\n",
    "\n",
    "y_pred = pipe.predict(X_val)\n",
    "print(confusion_matrix(y_pred, y_val))\n",
    "print(accuracy_score(y_pred, y_val))\n",
    "plt.imshow(confusion_matrix(y_pred, y_val))"
   ]
  },
  {
   "cell_type": "code",
   "execution_count": null,
   "id": "7eec98a4",
   "metadata": {},
   "outputs": [
    {
     "name": "stderr",
     "output_type": "stream",
     "text": [
      "/data/acajupyter/anaconda3/envs/server1/lib/python3.9/site-packages/sklearn/utils/deprecation.py:87: FutureWarning: Function plot_confusion_matrix is deprecated; Function `plot_confusion_matrix` is deprecated in 1.0 and will be removed in 1.2. Use one of the class methods: ConfusionMatrixDisplay.from_predictions or ConfusionMatrixDisplay.from_estimator.\n",
      "  warnings.warn(msg, category=FutureWarning)\n"
     ]
    }
   ],
   "source": [
    "#Attmpt 3 - Kneighbors\n",
    "import matplotlib.pyplot as plt\n",
    "from sklearn.datasets import make_classification\n",
    "from sklearn.metrics import plot_confusion_matrix\n",
    "from sklearn.model_selection import train_test_split\n",
    "from sklearn.svm import SVC\n",
    "plot_confusion_matrix(pipe, X_val, y_val)  \n",
    "plt.show()"
   ]
  },
  {
   "cell_type": "code",
   "execution_count": 1,
   "id": "94441e6b",
   "metadata": {},
   "outputs": [
    {
     "ename": "NameError",
     "evalue": "name 'Pipeline' is not defined",
     "output_type": "error",
     "traceback": [
      "\u001b[0;31m---------------------------------------------------------------------------\u001b[0m",
      "\u001b[0;31mNameError\u001b[0m                                 Traceback (most recent call last)",
      "File \u001b[0;32m<timed exec>:6\u001b[0m, in \u001b[0;36m<module>\u001b[0;34m\u001b[0m\n",
      "\u001b[0;31mNameError\u001b[0m: name 'Pipeline' is not defined"
     ]
    }
   ],
   "source": [
    "%%time\n",
    "#attmpt 1 \n",
    "\n",
    "#pipe = Pipeline([('naive_bayes', MultinomialNB())])\n",
    "\n",
    "from sklearn.neighbors import KNeighborsClassifier\n",
    "pipe = Pipeline(steps=[('preprocessor', preprocessor),\n",
    "                       ('naive_bayes', MultinomialNB()) ])\n",
    "               \n",
    "                     \n",
    "le = LabelEncoder()\n",
    "y_train = le.fit_transform(y_train)\n",
    "y_val = le.transform(y_val)\n",
    "\n",
    "pipe.fit(X_train, list(y_train))\n",
    "\n",
    "\n",
    "y_pred = pipe.predict(X_val)\n",
    "print(confusion_matrix(y_pred, y_val))\n",
    "print(accuracy_score(y_pred, y_val))\n",
    "plt.imshow(confusion_matrix(y_pred, y_val))"
   ]
  },
  {
   "cell_type": "code",
   "execution_count": 12,
   "id": "9bc97b9f",
   "metadata": {},
   "outputs": [
    {
     "name": "stderr",
     "output_type": "stream",
     "text": [
      "/data/acajupyter/anaconda3/envs/server1/lib/python3.9/site-packages/sklearn/utils/deprecation.py:87: FutureWarning: Function plot_confusion_matrix is deprecated; Function `plot_confusion_matrix` is deprecated in 1.0 and will be removed in 1.2. Use one of the class methods: ConfusionMatrixDisplay.from_predictions or ConfusionMatrixDisplay.from_estimator.\n",
      "  warnings.warn(msg, category=FutureWarning)\n"
     ]
    },
    {
     "data": {
      "image/png": "[encoded data removed]",
      "text/plain": [
       "<Figure size 432x288 with 2 Axes>"
      ]
     },
     "metadata": {
      "needs_background": "light"
     },
     "output_type": "display_data"
    }
   ],
   "source": [
    "#Attmpt 1 - NB\n",
    "import matplotlib.pyplot as plt\n",
    "from sklearn.datasets import make_classification\n",
    "from sklearn.metrics import plot_confusion_matrix\n",
    "from sklearn.model_selection import train_test_split\n",
    "from sklearn.svm import SVC\n",
    "plot_confusion_matrix(pipe, X_val, y_val)  \n",
    "plt.show()"
   ]
  },
  {
   "cell_type": "code",
   "execution_count": 22,
   "id": "d4337315",
   "metadata": {},
   "outputs": [],
   "source": [
    "df_test.to_csv('submission.csv',columns = ['review_id', 'rating'],\n",
    "               header = ['review_id', 'rating'], index = False)"
   ]
  },
  {
   "cell_type": "code",
   "execution_count": 23,
   "id": "7bd6e295",
   "metadata": {},
   "outputs": [
    {
     "data": {
      "text/plain": [
       "4    93780\n",
       "5    79566\n",
       "3    56794\n",
       "2    22002\n",
       "0     9214\n",
       "1     8644\n",
       "Name: rating, dtype: int64"
      ]
     },
     "execution_count": 23,
     "metadata": {},
     "output_type": "execute_result"
    }
   ],
   "source": [
    "df_sample = df.sample(frac = 0.3)\n",
    "df_sample['rating'].value_counts()"
   ]
  }
 ],
 "metadata": {
  "kernelspec": {
   "display_name": "Python 3 (ipykernel)",
   "language": "python",
   "name": "python3"
  },
  "language_info": {
   "codemirror_mode": {
    "name": "ipython",
    "version": 3
   },
   "file_extension": ".py",
   "mimetype": "text/x-python",
   "name": "python",
   "nbconvert_exporter": "python",
   "pygments_lexer": "ipython3",
   "version": "3.9.13"
  }
 },
 "nbformat": 4,
 "nbformat_minor": 5
}
