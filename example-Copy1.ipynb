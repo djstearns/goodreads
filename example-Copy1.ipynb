{
 "cells": [
  {
   "cell_type": "code",
   "execution_count": 10,
   "id": "667d95f2",
   "metadata": {},
   "outputs": [],
   "source": [
    "import pandas as pd\n"
   ]
  },
  {
   "cell_type": "code",
   "execution_count": 11,
   "id": "32ec3757",
   "metadata": {},
   "outputs": [],
   "source": [
    "df = pd.read_csv('../goodreads_train.csv')"
   ]
  },
  {
   "cell_type": "code",
   "execution_count": 12,
   "id": "325a8863",
   "metadata": {},
   "outputs": [
    {
     "data": {
      "text/plain": [
       "Index(['user_id', 'book_id', 'review_id', 'rating', 'review_text',\n",
       "       'date_added', 'date_updated', 'read_at', 'started_at', 'n_votes',\n",
       "       'n_comments'],\n",
       "      dtype='object')"
      ]
     },
     "execution_count": 12,
     "metadata": {},
     "output_type": "execute_result"
    }
   ],
   "source": [
    "df.columns"
   ]
  },
  {
   "cell_type": "code",
   "execution_count": 33,
   "id": "8564040a",
   "metadata": {
    "scrolled": true
   },
   "outputs": [
    {
     "name": "stdout",
     "output_type": "stream",
     "text": [
      "Collecting pandas_profiling\n",
      "  Downloading pandas_profiling-3.2.0-py2.py3-none-any.whl (262 kB)\n",
      "\u001b[K     |████████████████████████████████| 262 kB 1.7 MB/s eta 0:00:01\n",
      "\u001b[?25hCollecting tangled-up-in-unicode==0.2.0\n",
      "  Downloading tangled_up_in_unicode-0.2.0-py3-none-any.whl (4.7 MB)\n",
      "\u001b[K     |████████████████████████████████| 4.7 MB 1.6 MB/s eta 0:00:01\n",
      "\u001b[?25hCollecting visions[type_image_path]==0.7.4\n",
      "  Downloading visions-0.7.4-py3-none-any.whl (102 kB)\n",
      "\u001b[K     |████████████████████████████████| 102 kB 2.4 MB/s ta 0:00:01\n",
      "\u001b[?25hRequirement already satisfied: requests>=2.24.0 in /Users/derek/opt/anaconda3/lib/python3.8/site-packages (from pandas_profiling) (2.25.1)\n",
      "Requirement already satisfied: pandas!=1.0.0,!=1.0.1,!=1.0.2,!=1.1.0,>=0.25.3 in /Users/derek/opt/anaconda3/lib/python3.8/site-packages (from pandas_profiling) (1.2.4)\n",
      "Requirement already satisfied: PyYAML>=5.0.0 in /Users/derek/opt/anaconda3/lib/python3.8/site-packages (from pandas_profiling) (5.4.1)\n",
      "Requirement already satisfied: matplotlib>=3.2.0 in /Users/derek/opt/anaconda3/lib/python3.8/site-packages (from pandas_profiling) (3.3.4)\n",
      "Collecting joblib~=1.1.0\n",
      "  Downloading joblib-1.1.0-py2.py3-none-any.whl (306 kB)\n",
      "\u001b[K     |████████████████████████████████| 306 kB 2.1 MB/s eta 0:00:01\n",
      "\u001b[?25hRequirement already satisfied: tqdm>=4.48.2 in /Users/derek/opt/anaconda3/lib/python3.8/site-packages (from pandas_profiling) (4.59.0)\n",
      "Requirement already satisfied: scipy>=1.4.1 in /Users/derek/opt/anaconda3/lib/python3.8/site-packages (from pandas_profiling) (1.6.2)\n",
      "Collecting multimethod>=1.4\n",
      "  Downloading multimethod-1.8-py3-none-any.whl (9.8 kB)\n",
      "Requirement already satisfied: seaborn>=0.10.1 in /Users/derek/opt/anaconda3/lib/python3.8/site-packages (from pandas_profiling) (0.11.1)\n",
      "Requirement already satisfied: numpy>=1.16.0 in /Users/derek/opt/anaconda3/lib/python3.8/site-packages (from pandas_profiling) (1.22.3)\n",
      "Collecting htmlmin>=0.1.12\n",
      "  Downloading htmlmin-0.1.12.tar.gz (19 kB)\n",
      "Collecting phik>=0.11.1\n",
      "  Downloading phik-0.12.2-cp38-cp38-macosx_10_13_x86_64.whl (667 kB)\n",
      "\u001b[K     |████████████████████████████████| 667 kB 2.1 MB/s eta 0:00:01\n",
      "\u001b[?25hCollecting missingno>=0.4.2\n",
      "  Downloading missingno-0.5.1-py3-none-any.whl (8.7 kB)\n",
      "Requirement already satisfied: jinja2>=2.11.1 in /Users/derek/opt/anaconda3/lib/python3.8/site-packages (from pandas_profiling) (3.1.2)\n",
      "Requirement already satisfied: pydantic>=1.8.1 in /Users/derek/opt/anaconda3/lib/python3.8/site-packages (from pandas_profiling) (1.9.0)\n",
      "Requirement already satisfied: markupsafe~=2.1.1 in /Users/derek/opt/anaconda3/lib/python3.8/site-packages (from pandas_profiling) (2.1.1)\n",
      "Requirement already satisfied: networkx>=2.4 in /Users/derek/opt/anaconda3/lib/python3.8/site-packages (from visions[type_image_path]==0.7.4->pandas_profiling) (2.5)\n",
      "Requirement already satisfied: attrs>=19.3.0 in /Users/derek/opt/anaconda3/lib/python3.8/site-packages (from visions[type_image_path]==0.7.4->pandas_profiling) (20.3.0)\n",
      "Requirement already satisfied: Pillow in /Users/derek/opt/anaconda3/lib/python3.8/site-packages (from visions[type_image_path]==0.7.4->pandas_profiling) (8.2.0)\n",
      "Collecting imagehash\n",
      "  Downloading ImageHash-4.2.1.tar.gz (812 kB)\n",
      "\u001b[K     |████████████████████████████████| 812 kB 1.7 MB/s eta 0:00:01\n",
      "\u001b[?25hRequirement already satisfied: pyparsing!=2.0.4,!=2.1.2,!=2.1.6,>=2.0.3 in /Users/derek/opt/anaconda3/lib/python3.8/site-packages (from matplotlib>=3.2.0->pandas_profiling) (2.4.7)\n",
      "Requirement already satisfied: kiwisolver>=1.0.1 in /Users/derek/opt/anaconda3/lib/python3.8/site-packages (from matplotlib>=3.2.0->pandas_profiling) (1.3.1)\n",
      "Requirement already satisfied: cycler>=0.10 in /Users/derek/opt/anaconda3/lib/python3.8/site-packages (from matplotlib>=3.2.0->pandas_profiling) (0.10.0)\n",
      "Requirement already satisfied: python-dateutil>=2.1 in /Users/derek/opt/anaconda3/lib/python3.8/site-packages (from matplotlib>=3.2.0->pandas_profiling) (2.8.1)\n",
      "Requirement already satisfied: six in /Users/derek/opt/anaconda3/lib/python3.8/site-packages (from cycler>=0.10->matplotlib>=3.2.0->pandas_profiling) (1.15.0)\n",
      "Requirement already satisfied: decorator>=4.3.0 in /Users/derek/opt/anaconda3/lib/python3.8/site-packages (from networkx>=2.4->visions[type_image_path]==0.7.4->pandas_profiling) (5.0.6)\n",
      "Requirement already satisfied: pytz>=2017.3 in /Users/derek/opt/anaconda3/lib/python3.8/site-packages (from pandas!=1.0.0,!=1.0.1,!=1.0.2,!=1.1.0,>=0.25.3->pandas_profiling) (2021.1)\n",
      "Requirement already satisfied: typing-extensions>=3.7.4.3 in /Users/derek/opt/anaconda3/lib/python3.8/site-packages (from pydantic>=1.8.1->pandas_profiling) (3.7.4.3)\n",
      "Requirement already satisfied: certifi>=2017.4.17 in /Users/derek/opt/anaconda3/lib/python3.8/site-packages (from requests>=2.24.0->pandas_profiling) (2020.12.5)\n",
      "Requirement already satisfied: idna<3,>=2.5 in /Users/derek/opt/anaconda3/lib/python3.8/site-packages (from requests>=2.24.0->pandas_profiling) (2.10)\n",
      "Requirement already satisfied: urllib3<1.27,>=1.21.1 in /Users/derek/opt/anaconda3/lib/python3.8/site-packages (from requests>=2.24.0->pandas_profiling) (1.26.4)\n",
      "Requirement already satisfied: chardet<5,>=3.0.2 in /Users/derek/opt/anaconda3/lib/python3.8/site-packages (from requests>=2.24.0->pandas_profiling) (4.0.0)\n",
      "Requirement already satisfied: PyWavelets in /Users/derek/opt/anaconda3/lib/python3.8/site-packages (from imagehash->visions[type_image_path]==0.7.4->pandas_profiling) (1.1.1)\n",
      "Building wheels for collected packages: htmlmin, imagehash\n",
      "  Building wheel for htmlmin (setup.py) ... \u001b[?25ldone\n",
      "\u001b[?25h  Created wheel for htmlmin: filename=htmlmin-0.1.12-py3-none-any.whl size=27085 sha256=67de443113c470a971f5e8302e12f3db1bddd820c86e5f072503c853cc006a00\n",
      "  Stored in directory: /Users/derek/Library/Caches/pip/wheels/23/14/6e/4be5bfeeb027f4939a01764b48edd5996acf574b0913fe5243\n",
      "  Building wheel for imagehash (setup.py) ... \u001b[?25ldone\n",
      "\u001b[?25h  Created wheel for imagehash: filename=ImageHash-4.2.1-py2.py3-none-any.whl size=295198 sha256=3da927da60b1f27566255de85ee16b2c12411fc5612348f7fe2fc65fb7873c61\n",
      "  Stored in directory: /Users/derek/Library/Caches/pip/wheels/48/a1/7f/096c1269d6bf78d4768180602579b35a1e8cb1250bb4b40c74\n",
      "Successfully built htmlmin imagehash\n",
      "Installing collected packages: tangled-up-in-unicode, multimethod, visions, joblib, imagehash, phik, missingno, htmlmin, pandas-profiling\n",
      "  Attempting uninstall: joblib\n",
      "    Found existing installation: joblib 1.0.1\n",
      "    Uninstalling joblib-1.0.1:\n",
      "      Successfully uninstalled joblib-1.0.1\n",
      "Successfully installed htmlmin-0.1.12 imagehash-4.2.1 joblib-1.1.0 missingno-0.5.1 multimethod-1.8 pandas-profiling-3.2.0 phik-0.12.2 tangled-up-in-unicode-0.2.0 visions-0.7.4\n",
      "Note: you may need to restart the kernel to use updated packages.\n"
     ]
    }
   ],
   "source": [
    "#pip install pandas_profiling"
   ]
  },
  {
   "cell_type": "code",
   "execution_count": 36,
   "id": "24241cc2",
   "metadata": {},
   "outputs": [],
   "source": [
    "#from pandas_profiling import ProfileReport\n",
    "#profile = ProfileReport(X_train, title=\"Pandas Profiling Report\")"
   ]
  },
  {
   "cell_type": "code",
   "execution_count": 5,
   "id": "002edd0d",
   "metadata": {},
   "outputs": [],
   "source": [
    "from sklearn.preprocessing import LabelEncoder\n",
    "from sklearn.model_selection import train_test_split, StratifiedShuffleSplit\n",
    "from sklearn.feature_extraction.text import CountVectorizer, TfidfVectorizer\n",
    "from sklearn.naive_bayes import MultinomialNB\n",
    "from sklearn.metrics import confusion_matrix, accuracy_score\n",
    "from sklearn.pipeline import Pipeline\n",
    "import matplotlib.pyplot as plt\n",
    "df['review_text_new'] = df['review_text'].astype('U')\n",
    "X = df[['review_text_new','n_votes']]\n",
    "y = df['rating'].astype('U')\n",
    "X_train, X_val, y_train, y_val = train_test_split(X, y, test_size = 0.2, stratify = y)"
   ]
  },
  {
   "cell_type": "code",
   "execution_count": null,
   "id": "9ea2ea75",
   "metadata": {},
   "outputs": [],
   "source": [
    "## not enough memory 1.38 TiB!\n",
    "\n",
    "# %%time\n",
    "# vectorizer = TfidfVectorizer(lowercase = True,stop_words = 'english',analyzer = 'word')\n",
    "# vectors = vectorizer.fit_transform(X_train['review_text_new'])\n",
    "# feature_names = vectorizer.get_feature_names()\n",
    "# dense = vectors.todense()\n",
    "# denselist = dense.tolist()\n",
    "# df_d = pd.DataFrame(denselist, columns=feature_names)"
   ]
  },
  {
   "cell_type": "code",
   "execution_count": 42,
   "id": "6dcf7fab",
   "metadata": {
    "collapsed": true
   },
   "outputs": [
    {
     "data": {
      "text/html": [
       "<div>\n",
       "<style scoped>\n",
       "    .dataframe tbody tr th:only-of-type {\n",
       "        vertical-align: middle;\n",
       "    }\n",
       "\n",
       "    .dataframe tbody tr th {\n",
       "        vertical-align: top;\n",
       "    }\n",
       "\n",
       "    .dataframe thead th {\n",
       "        text-align: right;\n",
       "    }\n",
       "</style>\n",
       "<table border=\"1\" class=\"dataframe\">\n",
       "  <thead>\n",
       "    <tr style=\"text-align: right;\">\n",
       "      <th></th>\n",
       "      <th>review_text_new</th>\n",
       "      <th>n_votes</th>\n",
       "    </tr>\n",
       "  </thead>\n",
       "  <tbody>\n",
       "    <tr>\n",
       "      <th>117401</th>\n",
       "      <td>I really liked this one. I wasn't quite sure a...</td>\n",
       "      <td>1</td>\n",
       "    </tr>\n",
       "    <tr>\n",
       "      <th>232875</th>\n",
       "      <td>This felt like the book that just wouldn't end...</td>\n",
       "      <td>0</td>\n",
       "    </tr>\n",
       "    <tr>\n",
       "      <th>878382</th>\n",
       "      <td>Good one, real good one there.</td>\n",
       "      <td>1</td>\n",
       "    </tr>\n",
       "    <tr>\n",
       "      <th>780611</th>\n",
       "      <td>My only advice is to wait until they are all d...</td>\n",
       "      <td>0</td>\n",
       "    </tr>\n",
       "    <tr>\n",
       "      <th>650291</th>\n",
       "      <td>This book could have been a 3 star book - the ...</td>\n",
       "      <td>0</td>\n",
       "    </tr>\n",
       "    <tr>\n",
       "      <th>...</th>\n",
       "      <td>...</td>\n",
       "      <td>...</td>\n",
       "    </tr>\n",
       "    <tr>\n",
       "      <th>857213</th>\n",
       "      <td>This is the first Agatha Christie novel I read...</td>\n",
       "      <td>0</td>\n",
       "    </tr>\n",
       "    <tr>\n",
       "      <th>842445</th>\n",
       "      <td>I was disappointed in \"Miss Peregrine's Home f...</td>\n",
       "      <td>1</td>\n",
       "    </tr>\n",
       "    <tr>\n",
       "      <th>268705</th>\n",
       "      <td>This book is a love letter to reading books an...</td>\n",
       "      <td>0</td>\n",
       "    </tr>\n",
       "    <tr>\n",
       "      <th>564289</th>\n",
       "      <td>One of the better comics I've read this year.</td>\n",
       "      <td>0</td>\n",
       "    </tr>\n",
       "    <tr>\n",
       "      <th>649106</th>\n",
       "      <td>Got bored, could see the plot creeping towards...</td>\n",
       "      <td>17</td>\n",
       "    </tr>\n",
       "  </tbody>\n",
       "</table>\n",
       "<p>720000 rows × 2 columns</p>\n",
       "</div>"
      ],
      "text/plain": [
       "                                          review_text_new  n_votes\n",
       "117401  I really liked this one. I wasn't quite sure a...        1\n",
       "232875  This felt like the book that just wouldn't end...        0\n",
       "878382                     Good one, real good one there.        1\n",
       "780611  My only advice is to wait until they are all d...        0\n",
       "650291  This book could have been a 3 star book - the ...        0\n",
       "...                                                   ...      ...\n",
       "857213  This is the first Agatha Christie novel I read...        0\n",
       "842445  I was disappointed in \"Miss Peregrine's Home f...        1\n",
       "268705  This book is a love letter to reading books an...        0\n",
       "564289      One of the better comics I've read this year.        0\n",
       "649106  Got bored, could see the plot creeping towards...       17\n",
       "\n",
       "[720000 rows x 2 columns]"
      ]
     },
     "execution_count": 42,
     "metadata": {},
     "output_type": "execute_result"
    }
   ],
   "source": [
    "X_train"
   ]
  },
  {
   "cell_type": "code",
   "execution_count": 7,
   "id": "c3a5f87b",
   "metadata": {},
   "outputs": [],
   "source": [
    "from sklearn.pipeline import Pipeline\n",
    "from sklearn.compose import ColumnTransformer\n",
    "from sklearn.ensemble import RandomForestClassifier\n",
    "from sklearn.feature_extraction.text import TfidfVectorizer\n",
    "\n",
    "# Set X and y\n",
    "\n",
    "\n",
    "# initialise model and vectorizers\n",
    "model = RandomForestClassifier()\n",
    "vectorizer1 = TfidfVectorizer()\n",
    "\n",
    "# construct the column transfomer\n",
    "column_transformer = ColumnTransformer(\n",
    "    [('tfidf1', vectorizer1, 'review_text_new')],\n",
    "    remainder='passthrough')\n",
    "\n",
    "# fit the model\n",
    "pipe = Pipeline([\n",
    "                  ('tfidf', column_transformer),\n",
    "                  ('classify', model)\n",
    "                ])"
   ]
  },
  {
   "cell_type": "code",
   "execution_count": 54,
   "id": "fd8caae4",
   "metadata": {},
   "outputs": [],
   "source": [
    "# from sklearn.pipeline import Pipeline\n",
    "# from sklearn.impute import SimpleImputer\n",
    "# from sklearn.preprocessing import StandardScaler, OneHotEncoder\n",
    "# numeric_transformer = Pipeline(steps=[\n",
    "#     ('imputer', SimpleImputer(strategy='median')),\n",
    "#     ('scaler', StandardScaler())])\n",
    "# categorical_transformer = Pipeline(steps=[\n",
    "#     ('imputer', SimpleImputer(strategy='constant', fill_value='missing')),\n",
    "#     ('onehot', OneHotEncoder(handle_unknown='ignore'))])"
   ]
  },
  {
   "cell_type": "code",
   "execution_count": 57,
   "id": "86fd9dba",
   "metadata": {},
   "outputs": [],
   "source": [
    "# numeric_features = X_train.select_dtypes(include=['int64', 'float64']).columns\n",
    "# categorical_features = X_train.select_dtypes(include=['object']).columns\n",
    "# from sklearn.compose import ColumnTransformer\n",
    "# preprocessor = ColumnTransformer(\n",
    "#     transformers=[\n",
    "#         ('num', numeric_transformer, numeric_features),\n",
    "#         ('cat', categorical_transformer, categorical_features)])"
   ]
  },
  {
   "cell_type": "code",
   "execution_count": 75,
   "id": "86b6e614",
   "metadata": {},
   "outputs": [],
   "source": [
    "from sklearn.ensemble import RandomForestClassifier\n",
    "pipe = Pipeline([#('preprocessor', preprocessor),\n",
    "                      \n",
    "                     ('tfidf_vectorizer',TfidfVectorizer(lowercase = True,\n",
    "                                                     stop_words = 'english',\n",
    "                                                    analyzer = 'word')),\n",
    "                 #('classifier', RandomForestClassifier())])\n",
    "                ('naive_bayes', MultinomialNB())])"
   ]
  },
  {
   "cell_type": "code",
   "execution_count": 49,
   "id": "df4f687c",
   "metadata": {},
   "outputs": [
    {
     "data": {
      "text/plain": [
       "720000"
      ]
     },
     "execution_count": 49,
     "metadata": {},
     "output_type": "execute_result"
    }
   ],
   "source": [
    "len(X_train)"
   ]
  },
  {
   "cell_type": "code",
   "execution_count": 52,
   "id": "cff4ad3d",
   "metadata": {},
   "outputs": [
    {
     "data": {
      "text/plain": [
       "(720000, 2)"
      ]
     },
     "execution_count": 52,
     "metadata": {},
     "output_type": "execute_result"
    }
   ],
   "source": [
    "X_train.shape"
   ]
  },
  {
   "cell_type": "code",
   "execution_count": 50,
   "id": "4eeade6a",
   "metadata": {},
   "outputs": [
    {
     "data": {
      "text/plain": [
       "720000"
      ]
     },
     "execution_count": 50,
     "metadata": {},
     "output_type": "execute_result"
    }
   ],
   "source": [
    "len(y_train)"
   ]
  },
  {
   "cell_type": "code",
   "execution_count": 53,
   "id": "57022dc3",
   "metadata": {},
   "outputs": [
    {
     "data": {
      "text/plain": [
       "(720000,)"
      ]
     },
     "execution_count": 53,
     "metadata": {},
     "output_type": "execute_result"
    }
   ],
   "source": [
    "y_train.shape"
   ]
  },
  {
   "cell_type": "code",
   "execution_count": null,
   "id": "fa86460a",
   "metadata": {},
   "outputs": [],
   "source": [
    "%%time\n",
    "pipe.fit(X_train, list(y_train))\n",
    "y_pred = pipe.predict(X_val)\n",
    "print(confusion_matrix(y_pred, y_val))\n",
    "print(accuracy_score(y_pred, y_val))\n",
    "plt.imshow(confusion_matrix(y_pred, y_val))"
   ]
  },
  {
   "cell_type": "code",
   "execution_count": null,
   "id": "9bc97b9f",
   "metadata": {},
   "outputs": [],
   "source": [
    "import matplotlib.pyplot as plt\n",
    "from sklearn.datasets import make_classification\n",
    "from sklearn.metrics import plot_confusion_matrix\n",
    "from sklearn.model_selection import train_test_split\n",
    "from sklearn.svm import SVC\n",
    "plot_confusion_matrix(pipe, X_val, y_val)  \n",
    "plt.show()"
   ]
  },
  {
   "cell_type": "code",
   "execution_count": 17,
   "id": "02d4b364",
   "metadata": {},
   "outputs": [
    {
     "data": {
      "text/plain": [
       "180000"
      ]
     },
     "execution_count": 17,
     "metadata": {},
     "output_type": "execute_result"
    }
   ],
   "source": [
    "len(y_pred)"
   ]
  },
  {
   "cell_type": "code",
   "execution_count": 5,
   "id": "7468c6d1",
   "metadata": {},
   "outputs": [
    {
     "data": {
      "text/plain": [
       "4    313688\n",
       "5    265007\n",
       "3    188972\n",
       "2     72627\n",
       "0     30988\n",
       "1     28718\n",
       "Name: rating, dtype: int64"
      ]
     },
     "execution_count": 5,
     "metadata": {},
     "output_type": "execute_result"
    }
   ],
   "source": [
    "df['rating'].value_counts()"
   ]
  },
  {
   "cell_type": "code",
   "execution_count": 11,
   "id": "95eedb17",
   "metadata": {},
   "outputs": [
    {
     "data": {
      "text/plain": [
       "user_id         900000\n",
       "book_id         900000\n",
       "review_id       900000\n",
       "rating          900000\n",
       "review_text     900000\n",
       "date_added      900000\n",
       "date_updated    900000\n",
       "read_at         808234\n",
       "started_at      625703\n",
       "n_votes         900000\n",
       "n_comments      900000\n",
       "dtype: int64"
      ]
     },
     "execution_count": 11,
     "metadata": {},
     "output_type": "execute_result"
    }
   ],
   "source": [
    "df.count()"
   ]
  },
  {
   "cell_type": "code",
   "execution_count": 8,
   "id": "753637a9",
   "metadata": {},
   "outputs": [],
   "source": [
    "df_test = pd.read_csv('goodreads_test.csv.zip')"
   ]
  },
  {
   "cell_type": "code",
   "execution_count": 20,
   "id": "58d0d84f",
   "metadata": {},
   "outputs": [],
   "source": [
    "X_test = df_test['review_text']\n",
    "y_pred  = pipe.predict(X_test)"
   ]
  },
  {
   "cell_type": "code",
   "execution_count": 21,
   "id": "237c5ec0",
   "metadata": {},
   "outputs": [],
   "source": [
    "df_test['rating'] = y_pred.astype(float)"
   ]
  },
  {
   "cell_type": "code",
   "execution_count": 22,
   "id": "d4337315",
   "metadata": {},
   "outputs": [],
   "source": [
    "df_test.to_csv('submission.csv',columns = ['review_id', 'rating'],\n",
    "               header = ['review_id', 'rating'], index = False)"
   ]
  },
  {
   "cell_type": "code",
   "execution_count": 23,
   "id": "7bd6e295",
   "metadata": {},
   "outputs": [
    {
     "data": {
      "text/plain": [
       "4    93780\n",
       "5    79566\n",
       "3    56794\n",
       "2    22002\n",
       "0     9214\n",
       "1     8644\n",
       "Name: rating, dtype: int64"
      ]
     },
     "execution_count": 23,
     "metadata": {},
     "output_type": "execute_result"
    }
   ],
   "source": [
    "df_sample = df.sample(frac = 0.3)\n",
    "df_sample['rating'].value_counts()"
   ]
  }
 ],
 "metadata": {
  "kernelspec": {
   "display_name": "Python 3 (ipykernel)",
   "language": "python",
   "name": "python3"
  },
  "language_info": {
   "codemirror_mode": {
    "name": "ipython",
    "version": 3
   },
   "file_extension": ".py",
   "mimetype": "text/x-python",
   "name": "python",
   "nbconvert_exporter": "python",
   "pygments_lexer": "ipython3",
   "version": "3.9.13"
  }
 },
 "nbformat": 4,
 "nbformat_minor": 5
}
